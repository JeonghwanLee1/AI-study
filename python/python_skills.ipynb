{
 "cells": [
  {
   "cell_type": "markdown",
   "metadata": {},
   "source": [
    "# 파이썬 유용한 문법들"
   ]
  },
  {
   "cell_type": "markdown",
   "metadata": {},
   "source": [
    "#### 문자열 포매팅"
   ]
  },
  {
   "cell_type": "code",
   "execution_count": 7,
   "metadata": {},
   "outputs": [
    {
     "name": "stdout",
     "output_type": "stream",
     "text": [
      "one two\n",
      "name :        lee, age : 29.00000\n"
     ]
    }
   ],
   "source": [
    "print('%s %s'%('one','two'))\n",
    "dic = {'name':'lee','age':29}\n",
    "print('name : %(name)10s, age : %(age).5f'%dic)"
   ]
  },
  {
   "cell_type": "markdown",
   "metadata": {},
   "source": [
    "#### 대세인 fstring"
   ]
  },
  {
   "cell_type": "code",
   "execution_count": 12,
   "metadata": {},
   "outputs": [
    {
     "name": "stdout",
     "output_type": "stream",
     "text": [
      "Hello,Sungchul. You are 39.\n",
      "Sungchul            \n",
      "Sungchul************\n",
      "******Sungchul******\n",
      "************Sungchul\n"
     ]
    }
   ],
   "source": [
    "name = \"Sungchul\"\n",
    "age = 39\n",
    "print(f\"Hello,{name}. You are {age}.\")\n",
    "print(f'{name:20}')    #default : 왼쪽 정렬\n",
    "print(f'{name:*<20}')\n",
    "print(f'{name:*^20}')    #가운데 정렬\n",
    "print(f'{name:*>20}')    #오른쪽 정렬"
   ]
  },
  {
   "cell_type": "markdown",
   "metadata": {},
   "source": [
    "#### Lab : 화씨 변환기"
   ]
  },
  {
   "cell_type": "code",
   "execution_count": 18,
   "metadata": {},
   "outputs": [
    {
     "name": "stdout",
     "output_type": "stream",
     "text": [
      "본 프로그램은 섭씨를 화씨로 변환해주는 프로그램입니다\n",
      "변환하고 싶은 섭씨 온도를 입력해 주세요:\n",
      "32.2\n",
      "섭씨온도 : 32.20\n",
      "화씨온도 : 89.96\n"
     ]
    }
   ],
   "source": [
    "def c_to_f(celsius):\n",
    "    return ((9/5)*celsius)+32\n",
    "print(\"본 프로그램은 섭씨를 화씨로 변환해주는 프로그램입니다\")\n",
    "print(\"변환하고 싶은 섭씨 온도를 입력해 주세요:\")\n",
    "celsius = float(input())\n",
    "fahrenheit = c_to_f(celsius)\n",
    "\n",
    "print(f'섭씨온도 : {celsius:.2f}')\n",
    "print(f'화씨온도 : {fahrenheit:.2f}')"
   ]
  },
  {
   "cell_type": "markdown",
   "metadata": {},
   "source": [
    "#### call by object reference"
   ]
  },
  {
   "cell_type": "code",
   "execution_count": 21,
   "metadata": {},
   "outputs": [
    {
     "name": "stdout",
     "output_type": "stream",
     "text": [
      "[0, 1]\n"
     ]
    }
   ],
   "source": [
    "def spam(eggs):\n",
    "    eggs.append(1)    #call by ref\n",
    "    eggs = [2,3]    #주소가 끊어짐\n",
    "ham = [0]\n",
    "spam(ham)\n",
    "print(ham)"
   ]
  },
  {
   "cell_type": "markdown",
   "metadata": {},
   "source": [
    "#### using global variable"
   ]
  },
  {
   "cell_type": "code",
   "execution_count": 23,
   "metadata": {},
   "outputs": [
    {
     "name": "stdout",
     "output_type": "stream",
     "text": [
      "I love Paris\n",
      "I love London!\n",
      "I love London!\n"
     ]
    }
   ],
   "source": [
    "def f():\n",
    "    global s\n",
    "    s = \"I love London!\"\n",
    "    print(s)\n",
    "s = \"I love Paris\"\n",
    "print(s)\n",
    "f()\n",
    "print(s)"
   ]
  },
  {
   "cell_type": "markdown",
   "metadata": {},
   "source": [
    "#### function type hints"
   ]
  },
  {
   "cell_type": "code",
   "execution_count": 29,
   "metadata": {},
   "outputs": [
    {
     "data": {
      "text/plain": [
       "'Hello, Lee'"
      ]
     },
     "execution_count": 29,
     "metadata": {},
     "output_type": "execute_result"
    }
   ],
   "source": [
    "def type_hint(name:str)->str:\n",
    "    return f\"Hello, {name}\"\n",
    "type_hint(\"Lee\")"
   ]
  },
  {
   "cell_type": "markdown",
   "metadata": {},
   "source": [
    "#### function docstring(vscode docstring ext 깔고 -> Ctrl + Shift + P)"
   ]
  },
  {
   "cell_type": "code",
   "execution_count": null,
   "metadata": {},
   "outputs": [],
   "source": [
    "def add_binary(a,b):\n",
    "    '''\n",
    "    returns the sum of ~~~\n",
    "        paramers:\n",
    "            a (int) : ~~\n",
    "            b (int) : ~~\n",
    "        returns :\n",
    "            \n",
    "    \n",
    "    '''"
   ]
  },
  {
   "cell_type": "markdown",
   "metadata": {},
   "source": [
    "#### python coding convention 체크 - flake8"
   ]
  },
  {
   "cell_type": "code",
   "execution_count": null,
   "metadata": {},
   "outputs": [],
   "source": [
    "!conda install flake8"
   ]
  },
  {
   "cell_type": "markdown",
   "metadata": {},
   "source": [
    "### collections.deque 와 %timeit을 통한 시간 측정"
   ]
  },
  {
   "cell_type": "code",
   "execution_count": 5,
   "metadata": {},
   "outputs": [
    {
     "data": {
      "text/plain": [
       "deque([3, 2, 1, [1, 2, 3], 1, 3, 5, 7, 9])"
      ]
     },
     "execution_count": 5,
     "metadata": {},
     "output_type": "execute_result"
    }
   ],
   "source": [
    "from collections import deque\n",
    "dq = deque([1,3,5,7,9])\n",
    "dq.appendleft([1,2,3])\n",
    "dq.extendleft([1,2,3])\n",
    "dq"
   ]
  },
  {
   "cell_type": "code",
   "execution_count": 9,
   "metadata": {},
   "outputs": [
    {
     "name": "stdout",
     "output_type": "stream",
     "text": [
      "30.6 ns ± 6.78 ns per loop (mean ± std. dev. of 7 runs, 10000000 loops each)\n",
      "30.5 ns ± 2.41 ns per loop (mean ± std. dev. of 7 runs, 10000000 loops each)\n"
     ]
    }
   ],
   "source": [
    "def append_dq():\n",
    "    dq = deque([])\n",
    "    for i in range(1000):\n",
    "        dq.append(1)\n",
    "def append_q():\n",
    "    q = []\n",
    "    for i in range(1000):\n",
    "        q.append(i)\n",
    "%timeit append_dq\n",
    "%timeit append_q#?"
   ]
  },
  {
   "cell_type": "code",
   "execution_count": 12,
   "metadata": {},
   "outputs": [
    {
     "name": "stdout",
     "output_type": "stream",
     "text": [
      "time for pop_dq\n",
      "32.3 ns ± 8.53 ns per loop (mean ± std. dev. of 7 runs, 10000000 loops each)\n",
      "time for pop_q\n",
      "26.2 ns ± 1.11 ns per loop (mean ± std. dev. of 7 runs, 10000000 loops each)\n"
     ]
    }
   ],
   "source": [
    "l = deque([1 for _ in range(1000)])\n",
    "l_2 = [1 for _ in range(1000)]\n",
    "def pop_dq():\n",
    "    global l\n",
    "    for i in range(10000):\n",
    "        l.popleft()\n",
    "def pop_q():\n",
    "    global l_2\n",
    "    for i in range(10000):\n",
    "        l_2.pop(0)"
   ]
  },
  {
   "cell_type": "code",
   "execution_count": 33,
   "metadata": {},
   "outputs": [
    {
     "name": "stdout",
     "output_type": "stream",
     "text": [
      "time for pop_dq\n",
      "35.8 ns ± 8.12 ns per loop (mean ± std. dev. of 7 runs, 10000000 loops each)\n"
     ]
    }
   ],
   "source": [
    "print(\"time for pop_dq\")\n",
    "%timeit pop_dq#?"
   ]
  },
  {
   "cell_type": "code",
   "execution_count": 34,
   "metadata": {},
   "outputs": [
    {
     "name": "stdout",
     "output_type": "stream",
     "text": [
      "time for pop_q\n",
      "31.4 ns ± 15.1 ns per loop (mean ± std. dev. of 7 runs, 10000000 loops each)\n"
     ]
    }
   ],
   "source": [
    "print(\"time for pop_q\")\n",
    "%timeit pop_q#?"
   ]
  },
  {
   "cell_type": "markdown",
   "metadata": {},
   "source": [
    "#### defaultdict"
   ]
  },
  {
   "cell_type": "code",
   "execution_count": 16,
   "metadata": {},
   "outputs": [
    {
     "data": {
      "text/plain": [
       "0"
      ]
     },
     "execution_count": 16,
     "metadata": {},
     "output_type": "execute_result"
    }
   ],
   "source": [
    "from collections import defaultdict\n",
    "d = defaultdict(lambda : 0)\n",
    "d[1]"
   ]
  },
  {
   "cell_type": "markdown",
   "metadata": {},
   "source": [
    "#### counter"
   ]
  },
  {
   "cell_type": "code",
   "execution_count": 18,
   "metadata": {
    "scrolled": true
   },
   "outputs": [
    {
     "data": {
      "text/plain": [
       "Counter({'H': 1, 'e': 1, 'l': 3, 'o': 2, ' ': 1, 'w': 1, 'r': 1, 'd': 1})"
      ]
     },
     "execution_count": 18,
     "metadata": {},
     "output_type": "execute_result"
    }
   ],
   "source": [
    "from collections import Counter\n",
    "c = Counter(\"Hello world\")\n",
    "c"
   ]
  },
  {
   "cell_type": "code",
   "execution_count": 30,
   "metadata": {},
   "outputs": [
    {
     "name": "stdout",
     "output_type": "stream",
     "text": [
      "Counter({'a': 5, 'e': 5, 'b': 4, 'c': 3, 'd': 2})\n",
      "Counter({'a': 3})\n",
      "Counter({'b': 2, 'a': 1})\n",
      "Counter({'e': 5, 'a': 4, 'd': 4, 'c': 3, 'b': 2})\n"
     ]
    }
   ],
   "source": [
    "c = Counter(a=4,b=2,c=0,d=-2)\n",
    "d = Counter(a=1,b=2,c=3,d=4,e=5)\n",
    "print(c+d)\n",
    "print(c-d)\n",
    "print(c&d)\n",
    "print(c|d)"
   ]
  },
  {
   "cell_type": "markdown",
   "metadata": {},
   "source": [
    "#### iterable 내 함수 __iter__, __next__"
   ]
  }
 ],
 "metadata": {
  "kernelspec": {
   "display_name": "Python 3",
   "language": "python",
   "name": "python3"
  },
  "language_info": {
   "codemirror_mode": {
    "name": "ipython",
    "version": 3
   },
   "file_extension": ".py",
   "mimetype": "text/x-python",
   "name": "python",
   "nbconvert_exporter": "python",
   "pygments_lexer": "ipython3",
   "version": "3.6.4"
  }
 },
 "nbformat": 4,
 "nbformat_minor": 4
}
